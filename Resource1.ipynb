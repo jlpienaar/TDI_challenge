{
 "cells": [
  {
   "cell_type": "code",
   "execution_count": 1,
   "metadata": {},
   "outputs": [],
   "source": [
    "import pandas as pd\n",
    "import matplotlib.pyplot as plt\n",
    "import numpy as np\n",
    "\n",
    "# Load data\n",
    "contracts = pd.read_csv('contracts.csv')\n",
    "donations = pd.read_csv('donations.csv')"
   ]
  },
  {
   "cell_type": "markdown",
   "metadata": {},
   "source": [
    "The contracts table contains government contracts granted to industry, and the Agency column tells us which government department awarded the contract. The donations table contains donations to political parties from various private and industry donors.\n",
    "\n",
    "Links can be made between a political party and a government department by considering individual party members who have served as ministers of the relevant department, and other things (see Resource2). \n",
    "\n",
    "Let us suppose that we have found a link between the Department of Infrastructure, Transport, Regional Development and Local Government, and representatives of the National Party. Here we will show how this link might be exploited to examine whether industry donations could be influencing the granting of contracts to industry suppliers.\n",
    "\n",
    "We start by getting the names of the top suppliers and top donors from each table:"
   ]
  },
  {
   "cell_type": "code",
   "execution_count": 2,
   "metadata": {},
   "outputs": [],
   "source": [
    "PARTY = r'National Party'\n",
    "AGENCY = 'Department of Infrastructure Transport Regional ' \\\n",
    "         'Development and Local Government'\n",
    "\n",
    "df1 = contracts[contracts['agency_name'] == AGENCY]\n",
    "\n",
    "df1 = df1[['supplier_name','value']].sort_values('value', ascending=False)\n",
    "\n",
    "topsuppliers = df1['supplier_name'][:1000].unique().tolist()\n",
    "\n",
    "df2 = donations[donations['ent_name'].str.contains(PARTY)]\n",
    "\n",
    "df2 = df2[['donor','value']].sort_values('value', ascending=False)\n",
    "\n",
    "topdonors = df2['donor'][:1000].unique().tolist()"
   ]
  },
  {
   "cell_type": "markdown",
   "metadata": {},
   "source": [
    "We need a way to compare names across the two lists. For the moment we do a quick and dirty comparison of the words in each name, excluding common words."
   ]
  },
  {
   "cell_type": "code",
   "execution_count": 3,
   "metadata": {},
   "outputs": [],
   "source": [
    "def similar_names(a, b, threshold = 1):\n",
    "    names1 = []\n",
    "    names2 = []\n",
    "    for name1 in a:\n",
    "        for name2 in b:\n",
    "            words1 = name1.lower().split()\n",
    "            words2 = name2.lower().split()\n",
    "            for w in ['constructions', \n",
    "                      'services', \n",
    "                      'group', \n",
    "                      '&', \n",
    "                      'pty', \n",
    "                      'ltd', \n",
    "                      'limited', \n",
    "                      'trust', \n",
    "                      'bank', \n",
    "                      'and', \n",
    "                      'australia',\n",
    "                      'australian']:\n",
    "                if w in words1:\n",
    "                    words1.remove(w)\n",
    "                if w in words2:\n",
    "                    words2.remove(w)\n",
    "            common = set(words1).intersection(words2)\n",
    "            if len(common) >= threshold:\n",
    "                names1.append(name1)\n",
    "                names2.append(name2)\n",
    "    return names1, names2"
   ]
  },
  {
   "cell_type": "markdown",
   "metadata": {},
   "source": [
    "Now we can merge the tables of contracts and donations based on similar supplier/donor names. "
   ]
  },
  {
   "cell_type": "code",
   "execution_count": 4,
   "metadata": {},
   "outputs": [
    {
     "data": {
      "text/plain": [
       "<matplotlib.axes._subplots.AxesSubplot at 0x1fbc752ecc8>"
      ]
     },
     "execution_count": 4,
     "metadata": {},
     "output_type": "execute_result"
    },
    {
     "data": {
      "image/png": "[encoded data removed]",
      "text/plain": [
       "<Figure size 432x288 with 1 Axes>"
      ]
     },
     "metadata": {
      "needs_background": "light"
     },
     "output_type": "display_data"
    }
   ],
   "source": [
    "[s, d] = similar_names(topsuppliers, topdonors)\n",
    "\n",
    "top_id = [d.index(i) if i in d else np.nan for i in df2['donor']]\n",
    "\n",
    "df2 = df2.assign( **{ 'top_id' : top_id } ) \n",
    "\n",
    "top_id = [s.index(i) if i in s else np.nan for i in df1['supplier_name']]\n",
    "\n",
    "df1 = df1.assign( **{ 'top_id' : top_id } )\n",
    "\n",
    "df3 = pd.merge(df2, df1, on='top_id', how='inner', suffixes = ('_d','_s'))\n",
    "\n",
    "df3 = df3.dropna()\n",
    "\n",
    "df3.plot(x='value_d', y='value_s', kind='scatter')"
   ]
  },
  {
   "cell_type": "markdown",
   "metadata": {},
   "source": [
    "Data points to look for are ones that are both high donors and highly awarded suppliers.\n",
    "\n",
    "We can also consider how contracts are awarded to the possible donor/suppliers over time:"
   ]
  },
  {
   "cell_type": "code",
   "execution_count": 5,
   "metadata": {},
   "outputs": [
    {
     "data": {
      "text/plain": [
       "<matplotlib.axes._subplots.AxesSubplot at 0x1fbcba75f88>"
      ]
     },
     "execution_count": 5,
     "metadata": {},
     "output_type": "execute_result"
    },
    {
     "data": {
      "image/png": "[encoded data removed]",
      "text/plain": [
       "<Figure size 432x288 with 1 Axes>"
      ]
     },
     "metadata": {
      "needs_background": "light"
     },
     "output_type": "display_data"
    }
   ],
   "source": [
    "df4 = pd.merge(df3, contracts, on='supplier_name', how='inner')\n",
    "\n",
    "df4['publish_date'] = pd.to_datetime(df4['publish_date'], format = '%Y-%m')\n",
    "\n",
    "df4 = df4[df4['agency_name'] == AGENCY]\n",
    "\n",
    "df4 = df4[(df4['publish_date'] >= '2008-01-01') & \n",
    "          (df4['publish_date'] < '2011-01-01') \n",
    "          ]\n",
    "\n",
    "df4 = df4.set_index('publish_date')\n",
    "\n",
    "df4['value_s'].plot(style='b^')"
   ]
  },
  {
   "cell_type": "markdown",
   "metadata": {},
   "source": [
    "It would be nice to check the above data for correlations with donations, but the timing of donations is over long periods (many years). \n",
    "\n",
    "However, using Resource2 we might be able to check if the awarding of government contracts coincides in time with the passing of certain bills in parliament, which could be connected to ministers of the relevant government department."
   ]
  },
  {
   "cell_type": "code",
   "execution_count": null,
   "metadata": {},
   "outputs": [],
   "source": []
  }
 ],
 "metadata": {
  "kernelspec": {
   "display_name": "Python 3",
   "language": "python",
   "name": "python3"
  },
  "language_info": {
   "codemirror_mode": {
    "name": "ipython",
    "version": 3
   },
   "file_extension": ".py",
   "mimetype": "text/x-python",
   "name": "python",
   "nbconvert_exporter": "python",
   "pygments_lexer": "ipython3",
   "version": "3.7.6"
  }
 },
 "nbformat": 4,
 "nbformat_minor": 4
}
