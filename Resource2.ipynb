{
 "cells": [
  {
   "cell_type": "markdown",
   "metadata": {},
   "source": [
    "Measuring the performance of members of the Australian Parliament\n",
    "=============================\n",
    "\n",
    "This notebook uses data gathered from <a href=\"https://theyvoteforyou.org.au\">\n",
    "theyvoteforyou.org.au</a> using their API.\n",
    "\n",
    "The ultimate goal of this project is to help people get to know their representatives, by defining several quantitative metrics that can be used to rate representatives' performance and compare them to each other.\n",
    "\n",
    "Here's how I retrieved the data:"
   ]
  },
  {
   "cell_type": "code",
   "execution_count": 4,
   "metadata": {},
   "outputs": [],
   "source": [
    "#%% GETTING THE DATA FROM theyvoteforyou.org.au API:\n",
    "\n",
    "import requests\n",
    "import json\n",
    "from time import sleep\n",
    "\n",
    "filepath = ('C:/Users/jacques.pienaar/Documents/Project Map/Data_Science'\n",
    "            '/TDI application/Application July2020/Challenge/')\n",
    "\n",
    "HEADERS = {\n",
    "    'user-agent': 'Mozilla/5.0 (Windows NT 10.0; Win64; x64; rv:78.0) '\n",
    "    'Gecko/20100101 Firefox/78.0'}\n",
    "\n",
    "KEY_SECRET = 'my_secret_key'"
   ]
  },
  {
   "cell_type": "code",
   "execution_count": null,
   "metadata": {},
   "outputs": [],
   "source": [
    "session = requests.Session()\n",
    "session.mount('http://', requests.adapters.HTTPAdapter(max_retries=3))\n",
    "\n",
    "# Get data on \"all people\" in parliament:\n",
    "\n",
    "all_people_url =  'https://theyvoteforyou.org.au/api/v1/people.json?key=' \\\n",
    "    + KEY_SECRET\n",
    "\n",
    "_ = session.get(all_people_url, headers=HEADERS, timeout=5)\n",
    "all_people = _.json()\n",
    "\n",
    "# Get details on each member of parliament:\n",
    "\n",
    "member_id = [i['id'] for i in all_people]\n",
    "people_details = []\n",
    "n = 0\n",
    "for id_ in member_id:\n",
    "    people_details_url = 'https://theyvoteforyou.org.au/api/v1/people/' \\\n",
    "                         + str(id_) + '.json?key=' + KEY_SECRET\n",
    "    _ = session.get(people_details_url, headers=HEADERS, timeout=5)\n",
    "    people_details.append(_.json())\n",
    "    sleep(1)    #Just being careful not to spam them.\n",
    "    print(n, end=' ')\n",
    "    n += 1\n",
    "\n",
    "# Get data on \"all policies\"\n",
    "\n",
    "allpolicies_url = 'https://theyvoteforyou.org.au/api/v1/policies.json?key=' \\\n",
    "    + KEY_SECRET\n",
    "_ = session.get(allpolicies_url, headers=HEADERS, timeout=5)\n",
    "allpolicies = _.json()\n",
    "policy_id = [i['id'] for i in allpolicies]\n",
    "\n",
    "# Get details of each policy:\n",
    "\n",
    "policy_details = []\n",
    "n = 0\n",
    "for id_ in policy_id:\n",
    "    policy_details_url = 'https://theyvoteforyou.org.au/api/v1/policies/' \\\n",
    "                         + str(id_) + '.json?key=' + KEY_SECRET\n",
    "    _ = session.get(policy_details_url, headers=HEADERS, timeout=10)\n",
    "    policy_details.append(_.json())\n",
    "    sleep(1)\n",
    "    print(n, end=' ')\n",
    "    n += 1"
   ]
  },
  {
   "cell_type": "markdown",
   "metadata": {},
   "source": [
    "I saved the data to file in JSON, so I can retrieve it at any time:"
   ]
  },
  {
   "cell_type": "code",
   "execution_count": 5,
   "metadata": {},
   "outputs": [],
   "source": [
    "#%% LOADING THE DATA FROM FILES\n",
    "\n",
    "with open(filepath + 'all_people.json') as f:\n",
    "    all_people = json.load(f)\n",
    "\n",
    "with open(filepath + 'people_details.json') as f:\n",
    "    people_details = json.load(f)\n",
    "\n",
    "with open(filepath + 'policy_details.json') as f:\n",
    "    policy_details = json.load(f)"
   ]
  },
  {
   "cell_type": "markdown",
   "metadata": {},
   "source": [
    "The next step is to organize the data. Every vote in Parliament is called a \"division\". Each policy is connected to one or more divisions that either support the policy or are against the policy. Some divisions are strongly relevant to a policy, while others are only weakly relevant. In the data, we're told whether a member votes in favour or against a policy (vote = 'aye' or 'no') in each division, and whether the division is strongly or weakly relevant to the policy (strong = True or False). For convenience, I represent this as a number in {-2,-1,1,2} using the following function: "
   ]
  },
  {
   "cell_type": "code",
   "execution_count": 6,
   "metadata": {},
   "outputs": [],
   "source": [
    "#%% USEFUL FUNCTIONS\n",
    "def division_support(vote,strength):\n",
    "    # Given a boolean vote and boolean strength, convert into a \n",
    "    # number in [-2,-1,1,2] indicating how strongly a division\n",
    "    # supports a policy.\n",
    "    s = (-1)**(int(vote)+1)*(2)**(int(strength))\n",
    "    return s"
   ]
  },
  {
   "cell_type": "markdown",
   "metadata": {},
   "source": [
    "The code below organizes the data into dataframes for analysis:"
   ]
  },
  {
   "cell_type": "code",
   "execution_count": 7,
   "metadata": {},
   "outputs": [],
   "source": [
    "#%% MAKING THE DATAFRAMES\n",
    "# Uses data stored in these variables: all_people, people_details, policy_details\n",
    "\n",
    "import pandas as pd\n",
    "\n",
    "colnames = ['id','first','last','electorate','house','party']\n",
    "people_data = pd.DataFrame(columns = colnames)\n",
    "\n",
    "# Add basic data from all_people:\n",
    "newdata = [{} for i in range(len(all_people))]\n",
    "member_id = []\n",
    "i = 0\n",
    "for p in all_people:\n",
    "    member_id.append(p['id'])\n",
    "    newdata[i]['id'] = p['id']\n",
    "    newdata[i]['first'] = p['latest_member']['name']['first']\n",
    "    newdata[i]['last'] = p['latest_member']['name']['last']\n",
    "    newdata[i]['electorate'] = p['latest_member']['electorate']\n",
    "    newdata[i]['house'] = p['latest_member']['house']\n",
    "    newdata[i]['party'] = p['latest_member']['party']\n",
    "    i += 1\n",
    "\n",
    "people_data = people_data.append(newdata)\n",
    "\n",
    "# Add people details:\n",
    "newdata = [{} for i in range(len(people_details))]\n",
    "i=0\n",
    "for p in people_details:\n",
    "    newdata[i]['id'] = p['id']\n",
    "    newdata[i]['rebellions'] = p['rebellions']\n",
    "    newdata[i]['votes_attended'] = p['votes_attended']\n",
    "    newdata[i]['votes_possible'] = p['votes_possible']\n",
    "    for q in p['policy_comparisons']:\n",
    "        id_ = q['policy']['id']\n",
    "        colname = 'policy_' + str(id_)\n",
    "        if q['voted'] and not q['policy']['provisional']:\n",
    "            newdata[i][colname] = q['agreement']\n",
    "    i += 1\n",
    "\n",
    "new_columns = pd.DataFrame(newdata) \n",
    "people_data = pd.merge(people_data,new_columns,on='id')\n",
    "\n",
    "# make a dataframe of divisions related to each policy\n",
    " \n",
    "colnames = ['id', 'house', 'date', 'number', 'clock_time', 'yes_votes', \n",
    "            'no_votes', 'possible_turnout', 'rebellions']\n",
    "div_data = pd.DataFrame(columns = colnames)\n",
    "\n",
    "# Add data from policy_details:\n",
    "newdata = []\n",
    "i = 0\n",
    "div_id = []\n",
    "for p in policy_details:\n",
    "    p_id = str(p['id'])\n",
    "    for d in p['policy_divisions']:\n",
    "        id_ = d['division']['id']\n",
    "        if id_ in div_id:\n",
    "            j = div_id.index(id_)\n",
    "            vote = (d['vote'] == 'aye')\n",
    "            strength = d['strong']\n",
    "            newdata[j]['policy_'+p_id] = division_support(vote, strength)\n",
    "        else:\n",
    "            newdata.append({})\n",
    "            newdata[i]['id'] = id_\n",
    "            newdata[i]['house'] = d['division']['house']\n",
    "            newdata[i]['date'] = d['division']['date']\n",
    "            newdata[i]['number'] = d['division']['number']\n",
    "            newdata[i]['clock_time'] = d['division']['clock_time']\n",
    "            newdata[i]['yes_votes'] = d['division']['aye_votes']\n",
    "            newdata[i]['no_votes'] = d['division']['no_votes']\n",
    "            newdata[i]['possible_turnout'] = d['division']['possible_turnout']\n",
    "            newdata[i]['rebellions'] = d['division']['rebellions']\n",
    "            vote = (d['vote'] == 'aye')\n",
    "            strength = d['strong']\n",
    "            newdata[i]['policy_'+p_id] = division_support(vote, strength)\n",
    "            div_id.append(id_)\n",
    "            i += 1\n",
    "            \n",
    "div_data = div_data.append(newdata)"
   ]
  },
  {
   "cell_type": "markdown",
   "metadata": {},
   "source": [
    "Now that we have the data, let's explore. One way to measure an MP's performance is to check their attendance to votes on important policies. But how do we know which policies are important?\n",
    "One way to measure how important a policy is might be to check how many divisions are connected to it (reminder: a \"division\" means a vote in parliament). Let's see how the divisions are distributed per policy:"
   ]
  },
  {
   "cell_type": "code",
   "execution_count": 8,
   "metadata": {},
   "outputs": [
    {
     "data": {
      "text/plain": [
       "Text(0, 0.5, 'Divisions')"
      ]
     },
     "execution_count": 8,
     "metadata": {},
     "output_type": "execute_result"
    },
    {
     "data": {
      "image/png": "[encoded data removed]",
      "text/plain": [
       "<Figure size 432x288 with 1 Axes>"
      ]
     },
     "metadata": {
      "needs_background": "light"
     },
     "output_type": "display_data"
    }
   ],
   "source": [
    "#PLOTTING:\n",
    "import matplotlib.pyplot as plt\n",
    "\n",
    "# How many divisions does each policy have?\n",
    "\n",
    "num_div = []\n",
    "indices = []\n",
    "for i in range(len(policy_details)):\n",
    "    id_ =  policy_details[i]['id']\n",
    "    col = 'policy_' + str(id_)\n",
    "    n = 0\n",
    "    if col in div_data.columns:\n",
    "        n = len(div_data[col].dropna())\n",
    "    num_div.append(n) \n",
    "    indices.append(id_)\n",
    "\n",
    "nd = pd.DataFrame({'num_divisions':num_div, \n",
    "                        'policy_id':indices})\n",
    "nd = nd['num_divisions'].sort_values(ascending=False)\n",
    "nd.reset_index(drop=True, inplace=True)\n",
    "\n",
    "ax = nd.plot(style='ro', title='Number of divisions per policy')\n",
    "ax.set_xlabel('Policies')\n",
    "ax.set_ylabel('Divisions')"
   ]
  },
  {
   "cell_type": "markdown",
   "metadata": {},
   "source": [
    "We see there are a few policies that have a very high number of divisions connected to them. These are candidates for being important policies. However, some might just have many divisions because they are highly contentious, so we need to filter those out. Conversely, some important policies might have only a few divisions connected to them, so we need another way to identify those.\n",
    "\n",
    "Attendance is recorded in the data from the API, but does not include information about \"pairing arrangements\". This information is important because technically an MP's vote may still count as cast, even if they were physically absent. Also, the frequency of engaging in pairing arrangements might be an interesting metric to study in itself, for example it might indicate MPs that have many other responsibilities.\n",
    "\n",
    "TODO: Scrape data on pairing arrangements from <a href=\"https://www.aph.gov.au/\">aph.gov.au</a>.\n",
    "\n",
    "A useful way to gain insight into a member's political values is to look at how they vote on various policies. The extent to which a member agrees (or disagrees) with all of the 240 policies can give us a kind of \"ideological profile\" of that member. \n",
    "\n",
    "Let's see how members compare on just two policies. For each policy, we'll give each member an \"agreement score\" from 0 to 100, which is already calculated for us by the folks at <a href=\"https://theyvoteforyou.org.au\">\n",
    "theyvoteforyou.org.au</a>. \n",
    "\n",
    "In the graph below, each dot represents an individual MP, colour coded by political party:"
   ]
  },
  {
   "cell_type": "code",
   "execution_count": 9,
   "metadata": {},
   "outputs": [
    {
     "data": {
      "text/plain": [
       "Text(0, 0.5, 'increasing marine conservation')"
      ]
     },
     "execution_count": 9,
     "metadata": {},
     "output_type": "execute_result"
    },
    {
     "data": {
      "image/png": "[encoded data removed]",
      "text/plain": [
       "<Figure size 432x288 with 1 Axes>"
      ]
     },
     "metadata": {
      "needs_background": "light"
     },
     "output_type": "display_data"
    }
   ],
   "source": [
    "#%%\n",
    "# How do politicians compare on policies?\n",
    "\n",
    "pol_list = [i for i in range(1,241) if \n",
    "            'policy_'+str(i) in people_data.columns.tolist()]\n",
    "\n",
    "policy1 = '16'\n",
    "name1 = policy_details[int(policy1)-1]['name']\n",
    "policy2 = '17'\n",
    "name2 = policy_details[int(policy2)-1]['name']\n",
    "\n",
    "main_parties = ['Australian Labor Party',\n",
    "                'Liberal Party',\n",
    "                'National Party',\n",
    "                'Australian Greens']\n",
    "\n",
    "partynames = people_data['party'].unique().tolist()\n",
    "other = [i for i in partynames if i not in main_parties]\n",
    "\n",
    "people_data['party'].tolist()\n",
    "\n",
    "colors = ['b','r','c','g','m']\n",
    "\n",
    "df = people_data[['party','policy_'+policy1,'policy_'+policy2]].copy()\n",
    "\n",
    "df_ = df[['policy_'+policy1, 'policy_'+policy2]]\n",
    "df[['policy_'+policy1, 'policy_'+policy2]] = df_.apply(pd.to_numeric)\n",
    "\n",
    "\n",
    "ax = df[df['party'] == main_parties[0]].plot(x='policy_'+policy1,\n",
    "                                             y='policy_'+policy2,\n",
    "                                             kind='scatter',\n",
    "                                             legend=True,\n",
    "                                             color=colors[0],\n",
    "                                             title = \"How much do members\" \n",
    "                                             \" agree on any two policies?\")\n",
    "for n in range(len(main_parties)-1):\n",
    "    ax_ = df[df['party'] == main_parties[n]].plot(x='policy_'+policy1,\n",
    "                                                  y='policy_'+policy2,\n",
    "                                                  kind='scatter',\n",
    "                                                  legend=True,\n",
    "                                                  color=colors[n],\n",
    "                                                  ax=ax)\n",
    "    \n",
    "ax_ = df[df['party'].isin(other)].plot(x='policy_'+policy1,\n",
    "                                                     y='policy_'+policy2,\n",
    "                                                     kind='scatter',\n",
    "                                                     legend=True,\n",
    "                                                     color='y',\n",
    "                                                     ax=ax) \n",
    "ax.set_xlabel(name1)\n",
    "ax.set_ylabel(name2)"
   ]
  },
  {
   "cell_type": "markdown",
   "metadata": {},
   "source": [
    "We can already see there is a tendency for MP's to separate into clusters. Although the clusters correlate with their party, sometimes a single party is split into clusters with ideological differences. And some clusters contain MPs from different parties. So we see that the clustering of \"ideological profiles\" crosses party boundaries and may be a much better indication of an MP's political values than the party they happen to belong to.\n",
    "\n",
    "TODO: Run a clustering algorithm on the MP's ideological profiles for all 240 policies and see whether clusters can be reliably identified."
   ]
  }
 ],
 "metadata": {
  "kernelspec": {
   "display_name": "Python 3",
   "language": "python",
   "name": "python3"
  },
  "language_info": {
   "codemirror_mode": {
    "name": "ipython",
    "version": 3
   },
   "file_extension": ".py",
   "mimetype": "text/x-python",
   "name": "python",
   "nbconvert_exporter": "python",
   "pygments_lexer": "ipython3",
   "version": "3.7.6"
  }
 },
 "nbformat": 4,
 "nbformat_minor": 4
}
